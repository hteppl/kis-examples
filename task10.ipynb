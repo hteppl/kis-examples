{
 "cells": [
  {
   "cell_type": "markdown",
   "metadata": {},
   "source": [
    "<img src=\"tasks/10/10_1.png\">"
   ]
  },
  {
   "cell_type": "code",
   "execution_count": 1,
   "metadata": {
    "ExecuteTime": {
     "end_time": "2023-06-08T23:32:23.827059400Z",
     "start_time": "2023-06-08T23:32:23.817036800Z"
    }
   },
   "outputs": [],
   "source": [
    "class MealyError(Exception):\n",
    "    pass\n",
    "\n",
    "\n",
    "class Mealy:\n",
    "    def __init__(self):\n",
    "        self.state = 'A'\n",
    "\n",
    "    def pull(self):\n",
    "        if self.state == 'A':\n",
    "            self.state = 'B'\n",
    "            return 0\n",
    "        elif self.state == 'B':\n",
    "            self.state = 'C'\n",
    "            return 2\n",
    "        elif self.state == 'E':\n",
    "            self.state = 'B'\n",
    "            return 7\n",
    "        elif self.state == 'D':\n",
    "            self.state = 'E'\n",
    "            return 4\n",
    "        elif self.state == 'F':\n",
    "            self.state = 'G'\n",
    "            return 8\n",
    "        else:\n",
    "            raise MealyError('pull')\n",
    "\n",
    "    def punch(self):\n",
    "        if self.state == 'A':\n",
    "            self.state = 'C'\n",
    "            return 1\n",
    "        elif self.state == 'C':\n",
    "            self.state = 'D'\n",
    "            return 3\n",
    "        elif self.state == 'D':\n",
    "            self.state = 'B'\n",
    "            return 5\n",
    "        elif self.state == 'E':\n",
    "            self.state = 'F'\n",
    "            return 6\n",
    "        elif self.state == 'F':\n",
    "            return 9\n",
    "        else:\n",
    "            raise MealyError('punch')\n",
    "\n",
    "\n",
    "def raises(func, error):\n",
    "    output = None\n",
    "    try:\n",
    "        output = func()\n",
    "    except Exception as e:\n",
    "        assert isinstance(e, error)\n",
    "    assert output is None\n",
    "\n",
    "\n",
    "def main():\n",
    "    return Mealy()\n",
    "\n",
    "\n",
    "def test():\n",
    "    o = main()\n",
    "    o.pull()  # 0\n",
    "    o.pull()  # 2\n",
    "    raises(lambda: o.pull(), MealyError)\n",
    "    o.punch()  # 3\n",
    "    o.pull()  # 4\n",
    "    o.pull()  # 7\n",
    "    raises(lambda: o.punch(), MealyError)\n",
    "    o.pull()  # 2\n",
    "    o.punch()  # 3\n",
    "    o.punch()  # 5\n",
    "    o.pull()  # 2\n",
    "    o.punch()  # 3\n",
    "    o.pull()  # 4\n",
    "    o.punch()  # 6\n",
    "    o.punch()  # 9\n",
    "    o.pull()  # 8\n",
    "    o = main()\n",
    "    o.punch()  # 1"
   ]
  }
 ],
 "metadata": {
  "kernelspec": {
   "display_name": "Python 3 (ipykernel)",
   "language": "python",
   "name": "python3"
  },
  "language_info": {
   "codemirror_mode": {
    "name": "ipython",
    "version": 3
   },
   "file_extension": ".py",
   "mimetype": "text/x-python",
   "name": "python",
   "nbconvert_exporter": "python",
   "pygments_lexer": "ipython3",
   "version": "3.10.4"
  }
 },
 "nbformat": 4,
 "nbformat_minor": 1
}
