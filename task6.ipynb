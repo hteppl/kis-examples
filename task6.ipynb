{
 "cells": [
  {
   "cell_type": "markdown",
   "metadata": {},
   "source": [
    "<img src=\"tasks/6/6_1.png\" width=\"500\">"
   ]
  },
  {
   "cell_type": "code",
   "execution_count": null,
   "metadata": {},
   "outputs": [],
   "source": [
    "def x0(x, up, down):\n",
    "    if x == 'SMALI':\n",
    "        return up\n",
    "    else:\n",
    "        return down\n",
    "\n",
    "def x1(x, up, center, down):\n",
    "    if x == 1983:\n",
    "        return up\n",
    "    elif x == 1960:\n",
    "        return center\n",
    "    else: \n",
    "        return down\n",
    "\n",
    "def x3(x, up, center, down):\n",
    "    if x == 2008:\n",
    "        return up\n",
    "    elif x == 1965:\n",
    "        return center\n",
    "    else: \n",
    "        return down\n",
    "\n",
    "def x4(x, up, center, down):\n",
    "    if x == 2009:\n",
    "        return up\n",
    "    elif x == 2018:\n",
    "        return center\n",
    "    else:\n",
    "        return down\n",
    "\n",
    "def main(x):\n",
    "    if x[2] == 2018:\n",
    "        return x3(x[3], x4(x[4], 0, x1(x[1], 3, 4, 5), x0(x[0], 1, 2)), x4(x[4], 6, 7, x0(x[0], 8, 9)), 10)\n",
    "    else:\n",
    "        return 11\n",
    "    \n",
    "print(main(['SMALI', 1993, 2018, 2008, 2018]))\n",
    "print(main(['SMALI', 1993, 1978, 1989, 1997]))\n",
    "print(main(['NIT', 1993, 2018, 2008, 2009]))\n",
    "print(main(['NIT', 1960, 2018, 1989, 2018]))\n",
    "print(main(['SMALI', 1993, 2018, 1965, 2009]))"
   ]
  },
  {
   "cell_type": "markdown",
   "metadata": {},
   "source": [
    "<img src=\"tasks/6/6_2.png\" width=\"500\">"
   ]
  },
  {
   "cell_type": "code",
   "execution_count": null,
   "metadata": {},
   "outputs": [],
   "source": [
    "def main(x):\n",
    "    pass"
   ]
  },
  {
   "cell_type": "markdown",
   "metadata": {},
   "source": [
    "<img src=\"tasks/6/6_3.png\" width=\"500\">"
   ]
  },
  {
   "cell_type": "code",
   "execution_count": null,
   "metadata": {},
   "outputs": [],
   "source": [
    "def main(x):\n",
    "    pass"
   ]
  }
 ],
 "metadata": {
  "kernelspec": {
   "display_name": "Python 3 (ipykernel)",
   "language": "python",
   "name": "python3"
  },
  "language_info": {
   "codemirror_mode": {
    "name": "ipython",
    "version": 3
   },
   "file_extension": ".py",
   "mimetype": "text/x-python",
   "name": "python",
   "nbconvert_exporter": "python",
   "pygments_lexer": "ipython3",
   "version": "3.10.4"
  }
 },
 "nbformat": 4,
 "nbformat_minor": 1
}
