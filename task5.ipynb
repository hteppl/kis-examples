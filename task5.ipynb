{
 "cells": [
  {
   "cell_type": "markdown",
   "metadata": {},
   "source": [
    "<img src=\"tasks/5/5_1.png\" width=\"500\">"
   ]
  },
  {
   "cell_type": "code",
   "execution_count": null,
   "metadata": {
    "ExecuteTime": {
     "end_time": "2023-06-08T18:00:57.091767100Z",
     "start_time": "2023-06-08T18:00:57.080743600Z"
    }
   },
   "outputs": [],
   "source": [
    "import math\n",
    "\n",
    "\n",
    "def main(x):\n",
    "    s = 0\n",
    "    n = len(x)\n",
    "    x = [0] + x\n",
    "    for i in range(1, n + 1):\n",
    "        s += math.floor(x[math.ceil(i / 4)] ** 3 - 31 - 95 * x[i]) ** 4\n",
    "    return 60 * s"
   ]
  },
  {
   "cell_type": "markdown",
   "metadata": {},
   "source": [
    "<img src=\"tasks/5/5_2.png\" width=\"500\">"
   ]
  },
  {
   "cell_type": "code",
   "execution_count": null,
   "metadata": {},
   "outputs": [],
   "source": [
    "def main(x):\n",
    "    s = 0\n",
    "    n = len(x)\n",
    "    x = [0] + x\n",
    "    for i in range(1, n + 1):\n",
    "        s += (26 * x[i] + 19 * x[math.ceil(i / 3)] ** 3) ** 6 / 12\n",
    "    return s"
   ]
  },
  {
   "cell_type": "markdown",
   "metadata": {},
   "source": [
    "<img src=\"tasks/5/5_3.png\" width=\"500\">"
   ]
  },
  {
   "cell_type": "code",
   "execution_count": null,
   "metadata": {},
   "outputs": [],
   "source": [
    "def main(y, z, x):\n",
    "    s = 0\n",
    "    n = len(x)\n",
    "    y = [0] + y\n",
    "    z = [0] + z\n",
    "    x = [0] + x\n",
    "    for i in range(1, n + 1):\n",
    "        s += 24 * math.tan(y[i] - x[n + 1 - i] ** 3 - z[n + 1 - i] ** 2) ** 2\n",
    "    return s * 4"
   ]
  }
 ],
 "metadata": {
  "kernelspec": {
   "display_name": "Python 3 (ipykernel)",
   "language": "python",
   "name": "python3"
  },
  "language_info": {
   "codemirror_mode": {
    "name": "ipython",
    "version": 3
   },
   "file_extension": ".py",
   "mimetype": "text/x-python",
   "name": "python",
   "nbconvert_exporter": "python",
   "pygments_lexer": "ipython3",
   "version": "3.10.4"
  }
 },
 "nbformat": 4,
 "nbformat_minor": 1
}
