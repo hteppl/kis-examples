{
 "cells": [
  {
   "cell_type": "markdown",
   "metadata": {},
   "source": [
    "<img src=\"tasks/7/7_1.png\" width=\"600\">"
   ]
  },
  {
   "cell_type": "code",
   "execution_count": 1,
   "metadata": {
    "ExecuteTime": {
     "end_time": "2023-06-08T18:35:45.088489500Z",
     "start_time": "2023-06-08T18:35:45.078234500Z"
    }
   },
   "outputs": [],
   "source": [
    "def main(data):\n",
    "    w1 = data & 0b111111111\n",
    "    w2 = (data >> 9) & 0b111111\n",
    "    w3 = (data >> 15) & 0b1\n",
    "    w4 = (data >> 16) & 0b11111111\n",
    "    w5 = (data >> 24) & 0b111111111\n",
    "    return w1, w2, w3, w4, w5"
   ]
  },
  {
   "cell_type": "markdown",
   "metadata": {},
   "source": [
    "<img src=\"tasks/7/7_2.png\" width=\"600\">"
   ]
  },
  {
   "cell_type": "code",
   "execution_count": 2,
   "metadata": {
    "ExecuteTime": {
     "end_time": "2023-06-08T18:35:45.102022300Z",
     "start_time": "2023-06-08T18:35:45.090496100Z"
    }
   },
   "outputs": [],
   "source": [
    "def main(data):\n",
    "    o2 = (data >> 1) & 0b1111\n",
    "    o3 = (data >> 5) & 0b11111111\n",
    "    o4 = (data >> 13) & 0b1111111\n",
    "    o5 = (data >> 20) & 0b11111\n",
    "    o6 = (data >> 25) & 0b111111111\n",
    "    return [('O2', o2), ('O3', o3), ('O4', o4), ('O5', o5), ('O6', o6)]"
   ]
  },
  {
   "cell_type": "markdown",
   "metadata": {},
   "source": [
    "<img src=\"tasks/7/7_3.png\" width=\"600\">"
   ]
  },
  {
   "cell_type": "code",
   "execution_count": 3,
   "metadata": {
    "ExecuteTime": {
     "end_time": "2023-06-08T18:35:45.127178700Z",
     "start_time": "2023-06-08T18:35:45.105465900Z"
    }
   },
   "outputs": [],
   "source": [
    "def main(data):\n",
    "    res = 0\n",
    "    res |= data[0][1] & 0b11111\n",
    "    res |= (data[1][1] & 0b111111) << 5\n",
    "    res |= (data[2][1] & 0b111111) << 11\n",
    "    res |= (data[3][1] & 0b111111) << 17\n",
    "    res |= (data[4][1] & 0b111111111) << 23\n",
    "    return res"
   ]
  },
  {
   "cell_type": "markdown",
   "source": [
    "<img src=\"tasks/7/7_4.png\" width=\"600\">"
   ],
   "metadata": {
    "collapsed": false
   }
  },
  {
   "cell_type": "code",
   "execution_count": 4,
   "outputs": [],
   "source": [
    "def main(data):\n",
    "    data = int(data, 16)\n",
    "    d1 = data & 0b111111\n",
    "    d2 = (data >> 6) & 0b1111\n",
    "    d3 = (data >> 10) & 0b11111\n",
    "    d4 = (data >> 15) & 0b111111\n",
    "    return str(d2 | d4 << 4 | d3 << 10 | d1 << 21)"
   ],
   "metadata": {
    "collapsed": false,
    "ExecuteTime": {
     "end_time": "2023-06-08T18:35:45.146792400Z",
     "start_time": "2023-06-08T18:35:45.121049400Z"
    }
   }
  },
  {
   "cell_type": "markdown",
   "source": [
    "<img src=\"tasks/7/7_5.png\" width=\"600\">"
   ],
   "metadata": {
    "collapsed": false
   }
  },
  {
   "cell_type": "code",
   "execution_count": 5,
   "outputs": [],
   "source": [
    "def main(data):\n",
    "    res = 0\n",
    "    res |= data.get('C1') & 0b11111111\n",
    "    res |= (data.get('C2') & 0b11111111) << 8\n",
    "    res |= (data.get('C3') & 0b1111111) << 16\n",
    "    res |= (data.get('C4') & 0b111) << 23\n",
    "    res |= (data.get('C5') & 0b11) << 26\n",
    "    res |= (data.get('C6') & 0b111111) << 28\n",
    "    return hex(res)"
   ],
   "metadata": {
    "collapsed": false,
    "ExecuteTime": {
     "end_time": "2023-06-08T18:35:45.154817300Z",
     "start_time": "2023-06-08T18:35:45.135767100Z"
    }
   }
  }
 ],
 "metadata": {
  "kernelspec": {
   "display_name": "Python 3 (ipykernel)",
   "language": "python",
   "name": "python3"
  },
  "language_info": {
   "codemirror_mode": {
    "name": "ipython",
    "version": 3
   },
   "file_extension": ".py",
   "mimetype": "text/x-python",
   "name": "python",
   "nbconvert_exporter": "python",
   "pygments_lexer": "ipython3",
   "version": "3.10.4"
  }
 },
 "nbformat": 4,
 "nbformat_minor": 1
}
