{
 "cells": [
  {
   "cell_type": "markdown",
   "metadata": {},
   "source": [
    "<img src=\"tasks/8/8_1.png\">"
   ]
  },
  {
   "cell_type": "code",
   "execution_count": null,
   "metadata": {
    "ExecuteTime": {
     "end_time": "2023-06-08T18:00:57.091767100Z",
     "start_time": "2023-06-08T18:00:57.080743600Z"
    }
   },
   "outputs": [],
   "source": [
    "def get_start(data, i):\n",
    "    return data.find(\"n#\", i[0]), data.find(\"==>\", i[1])\n",
    "\n",
    "\n",
    "def get_end(data, i):\n",
    "    return data.find(\"==>\", i[0]), data.find(\"..\", i[1])\n",
    "\n",
    "\n",
    "def main(data):\n",
    "    res = []\n",
    "    data = data.replace('\\n', '').replace(' ', '')\n",
    "    start = get_start(data, (0, 0))\n",
    "    while start[0] != -1:\n",
    "        end = get_end(data, start)\n",
    "        sub = data[start[0] + 2:end[0]]\n",
    "        sub2 = data[start[1] + 3:end[1]]\n",
    "        start = get_start(data, end)\n",
    "        res.append((sub2, int(sub)))\n",
    "    return res"
   ]
  },
  {
   "cell_type": "markdown",
   "metadata": {},
   "source": [
    "<img src=\"tasks/8/8_2.png\">"
   ]
  },
  {
   "cell_type": "code",
   "execution_count": null,
   "metadata": {},
   "outputs": [],
   "source": [
    "def get_start(data, i):\n",
    "    return data.find(\"@'\", i[0]), data.find(\"->\", i[1])\n",
    "\n",
    "\n",
    "def get_end(data, i):\n",
    "    return data.find(\"'-\", i[0]), data.find(\";}\", i[1])\n",
    "\n",
    "\n",
    "def main(data):\n",
    "    res = []\n",
    "    data = data.replace('\\n', '').replace(' ', '')\n",
    "    start = get_start(data, (0, 0))\n",
    "    while start[0] != -1:\n",
    "        end = get_end(data, start)\n",
    "        sub = data[start[0] + 2:end[0]]\n",
    "        sub2 = data[start[1] + 2:end[1]]\n",
    "        start = get_start(data, end)\n",
    "        res.append((sub2, sub))\n",
    "    return res"
   ]
  },
  {
   "cell_type": "markdown",
   "metadata": {},
   "source": [
    "<img src=\"tasks/8/8_3.png\">"
   ]
  },
  {
   "cell_type": "code",
   "execution_count": null,
   "metadata": {},
   "outputs": [],
   "source": [
    "def get_start(data, i):\n",
    "    return data.find(\"q(\", i[0]), data.find(\":=\", i[1])\n",
    "\n",
    "\n",
    "def get_end(data, i):\n",
    "    return data.find(\"):\", i[0]), data.find(\".]\", i[1])\n",
    "\n",
    "\n",
    "def main(data):\n",
    "    res = []\n",
    "    data = data.replace('\\n', '').replace(' ', '')\n",
    "    start = get_start(data, (0, 0))\n",
    "    while start[0] != -1:\n",
    "        end = get_end(data, start)\n",
    "        sub = data[start[0] + 2:end[0]]\n",
    "        sub2 = data[start[1] + 2:end[1]]\n",
    "        start = get_start(data, end)\n",
    "        res.append((sub, sub2))\n",
    "    return res"
   ]
  }
 ],
 "metadata": {
  "kernelspec": {
   "display_name": "Python 3 (ipykernel)",
   "language": "python",
   "name": "python3"
  },
  "language_info": {
   "codemirror_mode": {
    "name": "ipython",
    "version": 3
   },
   "file_extension": ".py",
   "mimetype": "text/x-python",
   "name": "python",
   "nbconvert_exporter": "python",
   "pygments_lexer": "ipython3",
   "version": "3.10.4"
  }
 },
 "nbformat": 4,
 "nbformat_minor": 1
}
